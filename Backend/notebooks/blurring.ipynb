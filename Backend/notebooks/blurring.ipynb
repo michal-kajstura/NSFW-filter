{
 "cells": [
  {
   "cell_type": "code",
   "execution_count": null,
   "metadata": {
    "pycharm": {
     "is_executing": false
    }
   },
   "outputs": [],
   "source": [
    "%load_ext autoreload\n",
    "%autoreload 2\n",
    "import sys\n",
    "sys.path.append('..')\n",
    "\n",
    "\n",
    "import copy\n",
    "import json\n",
    "from urllib.request import urlretrieve\n",
    "\n",
    "import matplotlib.pyplot as plt\n",
    "import numpy as np\n",
    "from PIL import Image\n",
    "\n",
    "from src.blur_face.detection import Detector\n",
    "from src.blur_face.blurring import  ImageBlur, PixelBlur\n",
    "\n",
    "\n",
    "annotation_path = '/home/michal/studia/ZPI/data/face_detection.json'\n",
    "with open(annotation_path, 'r') as file:\n",
    "    lines = file.readlines()\n",
    "    annotations = [json.loads(a) for a in lines]"
   ]
  },
  {
   "cell_type": "code",
   "execution_count": null,
   "metadata": {
    "pycharm": {
     "is_executing": false
    }
   },
   "outputs": [],
   "source": [
    "def download_sample(annotations, sample_size=10):\n",
    "    sample_indxs = np.random.choice(np.arange(len(annotations)), sample_size, replace=False)\n",
    "    sample = copy.deepcopy([annotations[i] for i in sample_indxs])\n",
    "    paths = [urlretrieve(s['content'])[0] for s in sample]\n",
    "    \n",
    "    for s, path in zip(sample, paths):\n",
    "        image = Image.open(path).convert('RGB')\n",
    "        s['image'] = image\n",
    "        \n",
    "    return sample\n",
    "    \n",
    "sample = download_sample(annotations)"
   ]
  },
  {
   "cell_type": "code",
   "execution_count": null,
   "metadata": {
    "pycharm": {
     "is_executing": false,
     "name": "#%%\n"
    }
   },
   "outputs": [],
   "source": [
    "from time import time\n",
    "\n",
    "blur_type = PixelBlur(16)\n",
    "image_blur = ImageBlur(\n",
    "    blur_type, 2, 2.5\n",
    ")\n",
    "\n",
    "detector = Detector()\n",
    "for s in sample:\n",
    "    image = s['image']\n",
    "    boxes = detector.detect(image)\n",
    "    image_blurred = image_blur.blur(image, boxes)\n",
    "    \n",
    "    plt.figure(figsize=(15, 10))\n",
    "    plt.imshow(image_blurred)\n",
    "    plt.show()\n",
    "    \n",
    "    plt.savefig(f'figs/{time()}.png')\n",
    "    \n",
    "    \n"
   ]
  },
  {
   "cell_type": "code",
   "execution_count": null,
   "metadata": {
    "collapsed": false,
    "jupyter": {
     "outputs_hidden": false
    },
    "pycharm": {
     "is_executing": false,
     "name": "#%%\n"
    }
   },
   "outputs": [],
   "source": [
    "\n"
   ]
  }
 ],
 "metadata": {
  "kernelspec": {
   "display_name": "Python 3",
   "language": "python",
   "name": "python3"
  },
  "language_info": {
   "codemirror_mode": {
    "name": "ipython",
    "version": 3
   },
   "file_extension": ".py",
   "mimetype": "text/x-python",
   "name": "python",
   "nbconvert_exporter": "python",
   "pygments_lexer": "ipython3",
   "version": "3.7.6"
  },
  "pycharm": {
   "stem_cell": {
    "cell_type": "raw",
    "metadata": {
     "collapsed": false
    },
    "source": []
   }
  }
 },
 "nbformat": 4,
 "nbformat_minor": 4
}
