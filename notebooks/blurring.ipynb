{
 "cells": [
  {
   "cell_type": "code",
   "execution_count": null,
   "metadata": {},
   "outputs": [],
   "source": [
    "%load_ext autoreload\n",
    "%autoreload 2\n",
    "import json\n",
    "from urllib.request import urlretrieve\n",
    "import numpy as np\n",
    "from PIL import Image\n",
    "import copy\n",
    "\n",
    "\n",
    "annotation_path = '/home/michal/studia/ZPI/data/face_detection.json'\n",
    "with open(annotation_path, 'r') as file:\n",
    "    lines = file.readlines()\n",
    "    annotations = [json.loads(a) for a in lines]"
   ]
  },
  {
   "cell_type": "code",
   "execution_count": null,
   "metadata": {},
   "outputs": [],
   "source": [
    "def download_sample(annotations, sample_size=10):\n",
    "    sample_indxs = np.random.choice(np.arange(len(annotations)), sample_size, replace=False)\n",
    "    sample = copy.deepcopy([annotations[i] for i in sample_indxs])\n",
    "    paths = [urlretrieve(s['content'])[0] for s in sample]\n",
    "    \n",
    "    for s, path in zip(sample, paths):\n",
    "        image = Image.open(path)\n",
    "        s['image'] = image\n",
    "        \n",
    "    return sample\n",
    "    \n",
    "sample = download_sample(annotations)"
   ]
  },
  {
   "cell_type": "code",
   "execution_count": null,
   "metadata": {},
   "outputs": [],
   "source": [
    "sample[0]['image']"
   ]
  },
  {
   "cell_type": "code",
   "execution_count": null,
   "metadata": {},
   "outputs": [],
   "source": [
    "import sys\n",
    "sys.path.append('..')\n",
    "from blur_face.blurring import GaussianBlur, ImageBlur, PixelBlur\n",
    "from blur_face.bounding_box import BoundingBox\n",
    "\n",
    "def annot_to_bbox(annot):\n",
    "    left_upper, right_lower = annot['points']\n",
    "    left_upper_x = left_upper['x'] * annot['imageWidth']\n",
    "    left_upper_y = left_upper['y'] * annot['imageHeight']\n",
    "    right_lower_x = right_lower['x'] * annot['imageWidth']\n",
    "    right_lower_y = right_lower['y'] * annot['imageHeight']\n",
    "    width = right_lower_x - left_upper_x\n",
    "    height = right_lower_y - left_upper_y\n",
    "    return BoundingBox(int(left_upper_x), int(left_upper_y), int(width), int(height))"
   ]
  },
  {
   "cell_type": "code",
   "execution_count": null,
   "metadata": {},
   "outputs": [],
   "source": [
    "from time import time\n",
    "\n",
    "# blur = GaussianBlur(51, 15)\n",
    "blur = PixelBlur(16)\n",
    "imblur = ImageBlur(\n",
    "    blur, 2, 2.5\n",
    ")\n",
    "\n",
    "for s in sample:\n",
    "    image = s['image']\n",
    "    bboxes = [annot_to_bbox(a) for a in s['annotation']]\n",
    "    plt.figure(figsize=(10, 10))\n",
    "    plt.imshow(imblur.blur(image, bboxes))\n",
    "    plt.savefig(f'figs/{time()}.png')\n",
    "    plt.show()\n"
   ]
  },
  {
   "cell_type": "code",
   "execution_count": null,
   "metadata": {},
   "outputs": [],
   "source": [
    "s = sample[-1]\n",
    "image = s['image']\n",
    "bboxes = [annot_to_bbox(a) for a in s['annotation']]\n",
    "plt.figure(figsize=(10, 10))\n",
    "i, m = imblur.blur(image, bboxes)\n",
    "plt.imshow(m)\n",
    "plt.show()"
   ]
  },
  {
   "cell_type": "code",
   "execution_count": null,
   "metadata": {},
   "outputs": [],
   "source": [
    "mask.max()"
   ]
  }
 ],
 "metadata": {
  "kernelspec": {
   "display_name": "Python 3",
   "language": "python",
   "name": "python3"
  },
  "language_info": {
   "codemirror_mode": {
    "name": "ipython",
    "version": 3
   },
   "file_extension": ".py",
   "mimetype": "text/x-python",
   "name": "python",
   "nbconvert_exporter": "python",
   "pygments_lexer": "ipython3",
   "version": "3.7.6"
  }
 },
 "nbformat": 4,
 "nbformat_minor": 4
}
